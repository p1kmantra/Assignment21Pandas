{
 "cells": [
  {
   "cell_type": "code",
   "execution_count": 2,
   "id": "0441322b-7b7c-465a-81d6-15f3fceb4c3a",
   "metadata": {},
   "outputs": [],
   "source": [
    "import pandas as pd"
   ]
  },
  {
   "cell_type": "code",
   "execution_count": 26,
   "id": "df60b301-3412-468e-b16e-7b485364c2a4",
   "metadata": {},
   "outputs": [
    {
     "name": "stdout",
     "output_type": "stream",
     "text": [
      "Requirement already satisfied: pandas in /opt/conda/lib/python3.10/site-packages (1.5.2)\n",
      "Requirement already satisfied: python-dateutil>=2.8.1 in /opt/conda/lib/python3.10/site-packages (from pandas) (2.8.2)\n",
      "Requirement already satisfied: pytz>=2020.1 in /opt/conda/lib/python3.10/site-packages (from pandas) (2022.6)\n",
      "Requirement already satisfied: numpy>=1.21.0 in /opt/conda/lib/python3.10/site-packages (from pandas) (1.23.5)\n",
      "Requirement already satisfied: six>=1.5 in /opt/conda/lib/python3.10/site-packages (from python-dateutil>=2.8.1->pandas) (1.16.0)\n",
      "Note: you may need to restart the kernel to use updated packages.\n"
     ]
    }
   ],
   "source": [
    "pip install pandas"
   ]
  },
  {
   "cell_type": "code",
   "execution_count": null,
   "id": "d7e86d37-09e2-4937-bf43-e7621d401d33",
   "metadata": {},
   "outputs": [],
   "source": []
  },
  {
   "cell_type": "markdown",
   "id": "306d0e2e-be1b-40ee-9c77-836aa64c329e",
   "metadata": {},
   "source": [
    "Q1. Create a Pandas Series that contains the following data: 4, 8, 15, 16, 23, and 42. Then, print the series."
   ]
  },
  {
   "cell_type": "code",
   "execution_count": 3,
   "id": "e9956f5c-c0f0-4009-992e-a853826b4810",
   "metadata": {},
   "outputs": [
    {
     "data": {
      "text/plain": [
       "0     4\n",
       "1     8\n",
       "2    15\n",
       "3    16\n",
       "4    23\n",
       "5    42\n",
       "dtype: int64"
      ]
     },
     "execution_count": 3,
     "metadata": {},
     "output_type": "execute_result"
    }
   ],
   "source": [
    "pd.Series([4,8,15,16,23,42], index = [0,1,2,3,4,5])"
   ]
  },
  {
   "cell_type": "code",
   "execution_count": null,
   "id": "57347cb1-4b03-4fe9-920b-4dc16d57017a",
   "metadata": {},
   "outputs": [],
   "source": []
  },
  {
   "cell_type": "markdown",
   "id": "f7e92c4a-2021-4668-a819-3a1a46daca4d",
   "metadata": {},
   "source": [
    "Q2. Create a variable of list type containing 10 elements in it, and apply pandas.Series function on the\n",
    "variable print it."
   ]
  },
  {
   "cell_type": "code",
   "execution_count": 23,
   "id": "11d95183-7d6f-41de-b4e7-d7b42693d299",
   "metadata": {},
   "outputs": [
    {
     "data": {
      "text/plain": [
       "a           python\n",
       "b             java\n",
       "c          statics\n",
       "d            numpy\n",
       "e    machinlearnig\n",
       "f           pandas\n",
       "g              nlp\n",
       "h    visualization\n",
       "i              sql\n",
       "j     webscrapping\n",
       "dtype: object"
      ]
     },
     "execution_count": 23,
     "metadata": {},
     "output_type": "execute_result"
    }
   ],
   "source": [
    "pd.Series([\"python\",\"java\",\"statics\",\"numpy\",\"machinlearnig\",\"pandas\",\"nlp\",\"visualization\",\"sql\",\"webscrapping\"],index = [\"a\",\"b\",\"c\",\"d\",\"e\",\"f\",\"g\",\"h\",\"i\",\"j\"])"
   ]
  },
  {
   "cell_type": "code",
   "execution_count": null,
   "id": "9a33838d-0dbe-419d-9422-ddd5be9675f4",
   "metadata": {},
   "outputs": [],
   "source": []
  },
  {
   "cell_type": "markdown",
   "id": "7c247198-42e8-4195-8715-38a6bbd39b31",
   "metadata": {},
   "source": [
    "Q3. Create a Pandas DataFrame that contains the following data:"
   ]
  },
  {
   "cell_type": "markdown",
   "id": "193ef818-1fe2-4f3f-9a37-f9bb943f3e6b",
   "metadata": {},
   "source": [
    "Name =[\"Alice\",\"Bob\",\"Claire\"],Age = [25,30,27],Gender =[\"male\",\"female\",\"female\"]"
   ]
  },
  {
   "cell_type": "code",
   "execution_count": 28,
   "id": "1ae4d5a4-a14e-4d40-9011-a3341dbd4779",
   "metadata": {},
   "outputs": [],
   "source": [
    "data = {\"Name\":[\"Alice\",\"Bob\",\"Claire\"],\n",
    "        \"Age\":[25,30,27],\n",
    "        \"Gender\":[\"Female\",\"Male\",\"Female\"]       \n",
    "       }"
   ]
  },
  {
   "cell_type": "code",
   "execution_count": 29,
   "id": "c1d7238e-5bd4-475f-bd7a-cc15792e9afe",
   "metadata": {},
   "outputs": [
    {
     "data": {
      "text/html": [
       "<div>\n",
       "<style scoped>\n",
       "    .dataframe tbody tr th:only-of-type {\n",
       "        vertical-align: middle;\n",
       "    }\n",
       "\n",
       "    .dataframe tbody tr th {\n",
       "        vertical-align: top;\n",
       "    }\n",
       "\n",
       "    .dataframe thead th {\n",
       "        text-align: right;\n",
       "    }\n",
       "</style>\n",
       "<table border=\"1\" class=\"dataframe\">\n",
       "  <thead>\n",
       "    <tr style=\"text-align: right;\">\n",
       "      <th></th>\n",
       "      <th>Name</th>\n",
       "      <th>Age</th>\n",
       "      <th>Gender</th>\n",
       "    </tr>\n",
       "  </thead>\n",
       "  <tbody>\n",
       "    <tr>\n",
       "      <th>0</th>\n",
       "      <td>Alice</td>\n",
       "      <td>25</td>\n",
       "      <td>Female</td>\n",
       "    </tr>\n",
       "    <tr>\n",
       "      <th>1</th>\n",
       "      <td>Bob</td>\n",
       "      <td>30</td>\n",
       "      <td>Male</td>\n",
       "    </tr>\n",
       "    <tr>\n",
       "      <th>2</th>\n",
       "      <td>Claire</td>\n",
       "      <td>27</td>\n",
       "      <td>Female</td>\n",
       "    </tr>\n",
       "  </tbody>\n",
       "</table>\n",
       "</div>"
      ],
      "text/plain": [
       "     Name  Age  Gender\n",
       "0   Alice   25  Female\n",
       "1     Bob   30    Male\n",
       "2  Claire   27  Female"
      ]
     },
     "execution_count": 29,
     "metadata": {},
     "output_type": "execute_result"
    }
   ],
   "source": [
    "pd.DataFrame(data)"
   ]
  },
  {
   "cell_type": "code",
   "execution_count": null,
   "id": "63f30959-13ad-4cbe-8618-ae16489560a3",
   "metadata": {},
   "outputs": [],
   "source": []
  },
  {
   "cell_type": "markdown",
   "id": "08786ec5-6500-47c0-b5e3-f4a9d3ac621e",
   "metadata": {},
   "source": [
    "Q4. What is ‘DataFrame’ in pandas and how is it different from pandas.series? Explain with an example."
   ]
  },
  {
   "cell_type": "markdown",
   "id": "13fabc88-7877-4849-b7a6-bd9595d54686",
   "metadata": {},
   "source": [
    "Ans. In Pandas , a DataFrame is a two dimentional labeled data structure similar to a table or spreadsheet .it consists of rows and columns ,where each column can be a different data type .We can think of it like an excel spreadsheet or a SQL table. "
   ]
  },
  {
   "cell_type": "markdown",
   "id": "90ae56f6-f507-4a47-9229-58f0b77a41fe",
   "metadata": {},
   "source": [
    "On the other hand , a Pandas Series is a one dimentional labeled array capable of holding any data type.It's like a single column in a dataframe .Let's illustrate this with an example:"
   ]
  },
  {
   "cell_type": "code",
   "execution_count": 32,
   "id": "54c7504b-5715-48b6-9032-4e1753271b42",
   "metadata": {},
   "outputs": [],
   "source": [
    "data = {\"Name\" :[\"Delhi\",\"Maharastar\",\"Karnataka\"],\n",
    "       \"Capital\":[\"New Delhi\",\"Mumbai\",\"Bengaluru\"],\n",
    "       \"GDP rank\":[\"6th\",\"1st\",\"3rd\"]}"
   ]
  },
  {
   "cell_type": "code",
   "execution_count": 35,
   "id": "94889298-a113-4fe9-bd37-03f6f11ddefc",
   "metadata": {},
   "outputs": [],
   "source": [
    "df = pd.DataFrame(data,index =['A','B','C'])"
   ]
  },
  {
   "cell_type": "code",
   "execution_count": 36,
   "id": "22a9e62c-9780-45a1-a95d-fecf20c8d985",
   "metadata": {},
   "outputs": [
    {
     "data": {
      "text/html": [
       "<div>\n",
       "<style scoped>\n",
       "    .dataframe tbody tr th:only-of-type {\n",
       "        vertical-align: middle;\n",
       "    }\n",
       "\n",
       "    .dataframe tbody tr th {\n",
       "        vertical-align: top;\n",
       "    }\n",
       "\n",
       "    .dataframe thead th {\n",
       "        text-align: right;\n",
       "    }\n",
       "</style>\n",
       "<table border=\"1\" class=\"dataframe\">\n",
       "  <thead>\n",
       "    <tr style=\"text-align: right;\">\n",
       "      <th></th>\n",
       "      <th>Name</th>\n",
       "      <th>Capital</th>\n",
       "      <th>GDP rank</th>\n",
       "    </tr>\n",
       "  </thead>\n",
       "  <tbody>\n",
       "    <tr>\n",
       "      <th>A</th>\n",
       "      <td>Delhi</td>\n",
       "      <td>New Delhi</td>\n",
       "      <td>6th</td>\n",
       "    </tr>\n",
       "    <tr>\n",
       "      <th>B</th>\n",
       "      <td>Maharastar</td>\n",
       "      <td>Mumbai</td>\n",
       "      <td>1st</td>\n",
       "    </tr>\n",
       "    <tr>\n",
       "      <th>C</th>\n",
       "      <td>Karnataka</td>\n",
       "      <td>Bengaluru</td>\n",
       "      <td>3rd</td>\n",
       "    </tr>\n",
       "  </tbody>\n",
       "</table>\n",
       "</div>"
      ],
      "text/plain": [
       "         Name    Capital GDP rank\n",
       "A       Delhi  New Delhi      6th\n",
       "B  Maharastar     Mumbai      1st\n",
       "C   Karnataka  Bengaluru      3rd"
      ]
     },
     "execution_count": 36,
     "metadata": {},
     "output_type": "execute_result"
    }
   ],
   "source": [
    "df"
   ]
  },
  {
   "cell_type": "markdown",
   "id": "a74c08c5-8fb6-4261-bdaf-f122a2a448e1",
   "metadata": {},
   "source": [
    "Now let's extract the series from the DataFrame"
   ]
  },
  {
   "cell_type": "code",
   "execution_count": 37,
   "id": "8e4d3928-ad78-439d-b62d-e85a5331ce59",
   "metadata": {},
   "outputs": [],
   "source": [
    "Capital = df[\"Capital\"]"
   ]
  },
  {
   "cell_type": "code",
   "execution_count": 39,
   "id": "23651c09-b075-4ac9-bd9a-a1c526bc0892",
   "metadata": {},
   "outputs": [
    {
     "data": {
      "text/plain": [
       "A    New Delhi\n",
       "B       Mumbai\n",
       "C    Bengaluru\n",
       "Name: Capital, dtype: object"
      ]
     },
     "execution_count": 39,
     "metadata": {},
     "output_type": "execute_result"
    }
   ],
   "source": [
    "Capital"
   ]
  },
  {
   "cell_type": "markdown",
   "id": "63d37184-84d9-4884-bbe5-3cb48df5da38",
   "metadata": {},
   "source": [
    "In this example ,'df' is a Dataframe with columns 'Name','Capital'and 'GDP rank' .The 'Capital' column contains a series of capitals."
   ]
  },
  {
   "cell_type": "markdown",
   "id": "361ed837-a688-4efd-a514-505fe7ff14bc",
   "metadata": {},
   "source": [
    "So ,in summary ,a DataFrame is a 2D structure containing multiple series ,each of which is a 1D structure .This allows we to work with tabular data efficiently ,perform operations om entire columns and manipulate data in a variety of ways."
   ]
  },
  {
   "cell_type": "code",
   "execution_count": null,
   "id": "17d8e590-e215-4354-9f07-21986650bbd7",
   "metadata": {},
   "outputs": [],
   "source": []
  },
  {
   "cell_type": "markdown",
   "id": "f87142d7-1485-47e5-ae9b-a51a83cfd1c6",
   "metadata": {},
   "source": [
    "Q5. What are some common functions you can use to manipulate data in a Pandas DataFrame? Can\n",
    "you give an example of when you might use one of these functions?"
   ]
  },
  {
   "cell_type": "markdown",
   "id": "1216bf87-8097-4a46-8b4e-43db9ef942d4",
   "metadata": {},
   "source": [
    "Ans. There are several common functions in Pandas that we can use to manipulate data in DataFrame.Some of them is included here."
   ]
  },
  {
   "cell_type": "markdown",
   "id": "4a04d4b2-d4eb-4ad3-9818-a8cda8f3ec25",
   "metadata": {},
   "source": [
    "(a).\"head()\" and \"tail()\": These functions allow we to view the first or last few rows of DataFrame,respectively .They are useful for quickly inspecting our data."
   ]
  },
  {
   "cell_type": "markdown",
   "id": "b3e181c8-f2f1-46eb-a445-df5348826bb8",
   "metadata": {},
   "source": [
    "to view the first 5 rows\n",
    "df.head()"
   ]
  },
  {
   "cell_type": "markdown",
   "id": "e4dd40c7-dada-4112-85a4-8879c4bd7d58",
   "metadata": {},
   "source": [
    "(b).\"info()\":This provides a concise summry of DataFrame ,including the data types of and non-null values in each column .It's helpful for data exploration."
   ]
  },
  {
   "cell_type": "code",
   "execution_count": null,
   "id": "a5a0ed77-6371-4e18-ba95-321310bc839f",
   "metadata": {},
   "outputs": [],
   "source": [
    "df.info()"
   ]
  },
  {
   "cell_type": "markdown",
   "id": "fc3c3fc5-f95a-41b1-ba0a-4f4a08bdcbff",
   "metadata": {},
   "source": [
    "(c).\"describe()\":This gives basic statistical summary of the data like mean ,standard deviation ,minimum etc.for numerical column. eg:"
   ]
  },
  {
   "cell_type": "code",
   "execution_count": null,
   "id": "6301e7d6-8d86-49a8-a682-70e3b4afca41",
   "metadata": {},
   "outputs": [],
   "source": [
    "df.describe()"
   ]
  },
  {
   "cell_type": "markdown",
   "id": "7469ebde-736f-491d-89db-d97790bf7427",
   "metadata": {},
   "source": [
    "(d).'loc[]'and 'iloc[]':These are used for label-based and integer-location based indexing ,respectively .They allow us to select specific rows and coloumn in a DataFrame."
   ]
  },
  {
   "cell_type": "code",
   "execution_count": null,
   "id": "12f1b30c-24b3-4143-bc7b-249de19a5119",
   "metadata": {},
   "outputs": [],
   "source": [
    "df.loc[:2, 'Name']"
   ]
  },
  {
   "cell_type": "markdown",
   "id": "3e0e81c0-81b2-4995-a3ac-ea6718562ae2",
   "metadata": {},
   "source": [
    "(e).'merge()':This function is used to combine two DataFrame based on a common column."
   ]
  },
  {
   "cell_type": "code",
   "execution_count": null,
   "id": "2ec89408-c47f-4a6e-afa3-e13859885f5e",
   "metadata": {},
   "outputs": [],
   "source": [
    "merged_df = pd.merge(df1, df2,on = 'ID')"
   ]
  },
  {
   "cell_type": "markdown",
   "id": "9eb46582-1bcb-4cdf-9310-96033e15f3f0",
   "metadata": {},
   "source": [
    "These are just a few examples .There are many more functions are available in Pandas for various data amnipualation tasks.The choice of which of which function to use depends on the specific tasks we are trying to accomplish."
   ]
  },
  {
   "cell_type": "code",
   "execution_count": null,
   "id": "bc3cab9e-bcfb-4d1e-8aad-375c81ce5333",
   "metadata": {},
   "outputs": [],
   "source": []
  },
  {
   "cell_type": "markdown",
   "id": "afb655a8-578f-4ab0-9445-62350ece2032",
   "metadata": {},
   "source": [
    "Q6. Which of the following is mutable in nature Series, DataFrame, Panel?"
   ]
  },
  {
   "cell_type": "markdown",
   "id": "507b5b1e-028a-4f35-a1e2-e9338b9cb911",
   "metadata": {},
   "source": [
    "Ans. In Pandas ,among Series ,Dataframe and Panel, only DataFrame is mutable in nature .This mean we can modify the contents of DataFrame after it has been created."
   ]
  },
  {
   "cell_type": "markdown",
   "id": "539c61db-78ec-422c-b497-fa1a896a3ef0",
   "metadata": {},
   "source": [
    "Series and Panel objects, on the other hand are immutable .Once they are created ,we can not change their values .If we need to update the data in a Series or Panel ,we would need to create a new object with the update values ."
   ]
  },
  {
   "cell_type": "markdown",
   "id": "3197d613-5b6e-4128-816f-2f3f7dab6231",
   "metadata": {},
   "source": []
  },
  {
   "cell_type": "markdown",
   "id": "64e204f6-4464-43f3-a3f8-00973536e69a",
   "metadata": {},
   "source": [
    "Q7. Create a DataFrame using multiple Series. Explain with an example."
   ]
  },
  {
   "cell_type": "code",
   "execution_count": 18,
   "id": "7d634422-f41d-4569-83ff-4f3055c98f07",
   "metadata": {},
   "outputs": [],
   "source": [
    "Courses = pd.Series([\"Datasience\",\"DataAnalytics\",\"Full Stack data Engineering\",\"Web Development\",\"Decode DSA\"])"
   ]
  },
  {
   "cell_type": "code",
   "execution_count": 5,
   "id": "0c22655e-2155-4beb-8160-81b06bbee787",
   "metadata": {},
   "outputs": [
    {
     "data": {
      "text/plain": [
       "0                     Datasience\n",
       "1                  DataAnalytics\n",
       "2    Full Stack data Engineering\n",
       "3                Web Development\n",
       "4                     Decode DSA\n",
       "dtype: object"
      ]
     },
     "execution_count": 5,
     "metadata": {},
     "output_type": "execute_result"
    }
   ],
   "source": [
    "Courses"
   ]
  },
  {
   "cell_type": "code",
   "execution_count": 19,
   "id": "ee744cd6-a9bd-42fa-b87e-4fdb52bdc1df",
   "metadata": {},
   "outputs": [],
   "source": [
    "Topics= pd.Series([\"Python\",\"Statistics\",\"Big Data\",\"NodeJS\",\"Basic Algorithms\"])"
   ]
  },
  {
   "cell_type": "code",
   "execution_count": 7,
   "id": "83a8fa5c-1947-4ac0-83f8-1ad70a842224",
   "metadata": {},
   "outputs": [
    {
     "data": {
      "text/plain": [
       "0              Python\n",
       "1          Statistics\n",
       "2            Big Data\n",
       "3              NodeJS\n",
       "4    Basic Algorithms\n",
       "dtype: object"
      ]
     },
     "execution_count": 7,
     "metadata": {},
     "output_type": "execute_result"
    }
   ],
   "source": [
    "Topics"
   ]
  },
  {
   "cell_type": "code",
   "execution_count": 23,
   "id": "e6735ca4-c222-42ba-a8b5-002fbbc0f2a3",
   "metadata": {},
   "outputs": [],
   "source": [
    "No_of_Students = pd.Series([24000,52000,34000,25000,23000])"
   ]
  },
  {
   "cell_type": "code",
   "execution_count": 24,
   "id": "16ba2b45-7c05-49f9-8028-5dfb7b965384",
   "metadata": {},
   "outputs": [],
   "source": [
    "df = pd.DataFrame({\"Column1\":Courses,\"Column2\":Topics,\"Column3\":No_of_Students})"
   ]
  },
  {
   "cell_type": "code",
   "execution_count": 25,
   "id": "1960012c-4e3f-442e-bfd0-85b492813771",
   "metadata": {},
   "outputs": [
    {
     "data": {
      "text/html": [
       "<div>\n",
       "<style scoped>\n",
       "    .dataframe tbody tr th:only-of-type {\n",
       "        vertical-align: middle;\n",
       "    }\n",
       "\n",
       "    .dataframe tbody tr th {\n",
       "        vertical-align: top;\n",
       "    }\n",
       "\n",
       "    .dataframe thead th {\n",
       "        text-align: right;\n",
       "    }\n",
       "</style>\n",
       "<table border=\"1\" class=\"dataframe\">\n",
       "  <thead>\n",
       "    <tr style=\"text-align: right;\">\n",
       "      <th></th>\n",
       "      <th>Column1</th>\n",
       "      <th>Column2</th>\n",
       "      <th>Column3</th>\n",
       "    </tr>\n",
       "  </thead>\n",
       "  <tbody>\n",
       "    <tr>\n",
       "      <th>0</th>\n",
       "      <td>Datasience</td>\n",
       "      <td>Python</td>\n",
       "      <td>24000</td>\n",
       "    </tr>\n",
       "    <tr>\n",
       "      <th>1</th>\n",
       "      <td>DataAnalytics</td>\n",
       "      <td>Statistics</td>\n",
       "      <td>52000</td>\n",
       "    </tr>\n",
       "    <tr>\n",
       "      <th>2</th>\n",
       "      <td>Full Stack data Engineering</td>\n",
       "      <td>Big Data</td>\n",
       "      <td>34000</td>\n",
       "    </tr>\n",
       "    <tr>\n",
       "      <th>3</th>\n",
       "      <td>Web Development</td>\n",
       "      <td>NodeJS</td>\n",
       "      <td>25000</td>\n",
       "    </tr>\n",
       "    <tr>\n",
       "      <th>4</th>\n",
       "      <td>Decode DSA</td>\n",
       "      <td>Basic Algorithms</td>\n",
       "      <td>23000</td>\n",
       "    </tr>\n",
       "  </tbody>\n",
       "</table>\n",
       "</div>"
      ],
      "text/plain": [
       "                       Column1           Column2  Column3\n",
       "0                   Datasience            Python    24000\n",
       "1                DataAnalytics        Statistics    52000\n",
       "2  Full Stack data Engineering          Big Data    34000\n",
       "3              Web Development            NodeJS    25000\n",
       "4                   Decode DSA  Basic Algorithms    23000"
      ]
     },
     "execution_count": 25,
     "metadata": {},
     "output_type": "execute_result"
    }
   ],
   "source": [
    "df"
   ]
  },
  {
   "cell_type": "markdown",
   "id": "fabf1fae-2abf-4ed6-a43b-1f841fbd5390",
   "metadata": {},
   "source": [
    "We can create DataFrame with more series or different type or different type of Data in similar manner by adding more columns to the dictionary inside 'pd.DataFrame'."
   ]
  },
  {
   "cell_type": "code",
   "execution_count": null,
   "id": "7f228ee1-db85-439f-ad19-7491e66dd0a8",
   "metadata": {},
   "outputs": [],
   "source": []
  }
 ],
 "metadata": {
  "kernelspec": {
   "display_name": "Python 3 (ipykernel)",
   "language": "python",
   "name": "python3"
  },
  "language_info": {
   "codemirror_mode": {
    "name": "ipython",
    "version": 3
   },
   "file_extension": ".py",
   "mimetype": "text/x-python",
   "name": "python",
   "nbconvert_exporter": "python",
   "pygments_lexer": "ipython3",
   "version": "3.10.8"
  }
 },
 "nbformat": 4,
 "nbformat_minor": 5
}
